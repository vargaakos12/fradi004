{
    "metadata": {
        "kernelspec": {
            "name": "SQL",
            "display_name": "SQL",
            "language": "sql"
        },
        "language_info": {
            "name": "sql",
            "version": ""
        }
    },
    "nbformat_minor": 2,
    "nbformat": 4,
    "cells": [
        {
            "cell_type": "code",
            "source": [
                "---1.\r\n",
                "SELECT TIPUS,\r\n",
                "        HELY,\r\n",
                "        ROUND(AVG(CSILLAGOK_SZAMA), 2) AS 'Átlagos csillagszám'\r\n",
                "FROM SZALLASHELY\r\n",
                "WHERE SZALLAS_NEV NOT LIKE '%-%'\r\n",
                "GROUP BY TIPUS, HELY"
            ],
            "metadata": {
                "azdata_cell_guid": "b46ef86a-9983-40b4-8ef5-94441526f2c1",
                "language": "sql"
            },
            "outputs": [
                {
                    "output_type": "display_data",
                    "data": {
                        "text/html": "(16 rows affected)"
                    },
                    "metadata": {}
                },
                {
                    "output_type": "display_data",
                    "data": {
                        "text/html": "Total execution time: 00:00:00.009"
                    },
                    "metadata": {}
                },
                {
                    "output_type": "execute_result",
                    "metadata": {},
                    "execution_count": 2,
                    "data": {
                        "application/vnd.dataresource+json": {
                            "schema": {
                                "fields": [
                                    {
                                        "name": "TIPUS"
                                    },
                                    {
                                        "name": "HELY"
                                    },
                                    {
                                        "name": "(No column name)"
                                    }
                                ]
                            },
                            "data": [
                                {
                                    "TIPUS": "Apartman",
                                    "HELY": "Balaton-dél",
                                    "(No column name)": "0"
                                },
                                {
                                    "TIPUS": "Hotel",
                                    "HELY": "Balaton-dél",
                                    "(No column name)": "3"
                                },
                                {
                                    "TIPUS": "panzió",
                                    "HELY": "Balaton-dél",
                                    "(No column name)": "3"
                                },
                                {
                                    "TIPUS": "vendégház",
                                    "HELY": "Balaton-dél",
                                    "(No column name)": "0"
                                },
                                {
                                    "TIPUS": "vendégház",
                                    "HELY": "Balaton-észak",
                                    "(No column name)": "0"
                                },
                                {
                                    "TIPUS": "panzió",
                                    "HELY": "Békés megye",
                                    "(No column name)": "3"
                                },
                                {
                                    "TIPUS": "Diákszálló",
                                    "HELY": "Budapest",
                                    "(No column name)": "0"
                                },
                                {
                                    "TIPUS": "Hotel",
                                    "HELY": "Budapest",
                                    "(No column name)": "3"
                                },
                                {
                                    "TIPUS": "panzió",
                                    "HELY": "Budapest",
                                    "(No column name)": "3"
                                },
                                {
                                    "TIPUS": "panzió",
                                    "HELY": "Csongrád megye",
                                    "(No column name)": "3"
                                },
                                {
                                    "TIPUS": "vendégház",
                                    "HELY": "Csongrád megye",
                                    "(No column name)": "0"
                                },
                                {
                                    "TIPUS": "Apartman",
                                    "HELY": "Dél-Somogy",
                                    "(No column name)": "0"
                                },
                                {
                                    "TIPUS": "vendégház",
                                    "HELY": "Dél-Somogy",
                                    "(No column name)": "0"
                                },
                                {
                                    "TIPUS": "Apartman",
                                    "HELY": "Hajdúbihar megye",
                                    "(No column name)": "0"
                                },
                                {
                                    "TIPUS": "Hotel",
                                    "HELY": "Pest megye",
                                    "(No column name)": "3"
                                },
                                {
                                    "TIPUS": "Hotel",
                                    "HELY": "Tolna megye",
                                    "(No column name)": "4"
                                }
                            ]
                        },
                        "text/html": [
                            "<table>",
                            "<tr><th>TIPUS</th><th>HELY</th><th>(No column name)</th></tr>",
                            "<tr><td>Apartman</td><td>Balaton-dél</td><td>0</td></tr>",
                            "<tr><td>Hotel</td><td>Balaton-dél</td><td>3</td></tr>",
                            "<tr><td>panzió</td><td>Balaton-dél</td><td>3</td></tr>",
                            "<tr><td>vendégház</td><td>Balaton-dél</td><td>0</td></tr>",
                            "<tr><td>vendégház</td><td>Balaton-észak</td><td>0</td></tr>",
                            "<tr><td>panzió</td><td>Békés megye</td><td>3</td></tr>",
                            "<tr><td>Diákszálló</td><td>Budapest</td><td>0</td></tr>",
                            "<tr><td>Hotel</td><td>Budapest</td><td>3</td></tr>",
                            "<tr><td>panzió</td><td>Budapest</td><td>3</td></tr>",
                            "<tr><td>panzió</td><td>Csongrád megye</td><td>3</td></tr>",
                            "<tr><td>vendégház</td><td>Csongrád megye</td><td>0</td></tr>",
                            "<tr><td>Apartman</td><td>Dél-Somogy</td><td>0</td></tr>",
                            "<tr><td>vendégház</td><td>Dél-Somogy</td><td>0</td></tr>",
                            "<tr><td>Apartman</td><td>Hajdúbihar megye</td><td>0</td></tr>",
                            "<tr><td>Hotel</td><td>Pest megye</td><td>3</td></tr>",
                            "<tr><td>Hotel</td><td>Tolna megye</td><td>4</td></tr>",
                            "</table>"
                        ]
                    }
                }
            ],
            "execution_count": 2
        },
        {
            "cell_type": "code",
            "source": [
                "---2.\r\n",
                "SELECT SZALLAS_ID,\r\n",
                "        SZALLAS_NEV,\r\n",
                "        CSILLAGOK_SZAMA,\r\n",
                "        IIF(CSILLAGOK_SZAMA >= 3, 'Igen', 'Nem') AS 'Legalább 3 csillagos_e'\r\n",
                "FROM Szallashely\r\n",
                "WHERE SZALLAS_ID NOT IN \r\n",
                "(\r\n",
                "    SELECT SZALLAS_FK\r\n",
                "    FROM Szoba\r\n",
                "    WHERE FEROHELY = 3\r\n",
                ")"
            ],
            "metadata": {
                "azdata_cell_guid": "a234a610-0ea1-417b-a0ec-dc064e3eefd9",
                "language": "sql"
            },
            "outputs": [
                {
                    "output_type": "display_data",
                    "data": {
                        "text/html": "(2 rows affected)"
                    },
                    "metadata": {}
                },
                {
                    "output_type": "display_data",
                    "data": {
                        "text/html": "Total execution time: 00:00:00.007"
                    },
                    "metadata": {}
                },
                {
                    "output_type": "execute_result",
                    "metadata": {},
                    "execution_count": 6,
                    "data": {
                        "application/vnd.dataresource+json": {
                            "schema": {
                                "fields": [
                                    {
                                        "name": "SZALLAS_ID"
                                    },
                                    {
                                        "name": "SZALLAS_NEV"
                                    },
                                    {
                                        "name": "CSILLAGOK_SZAMA"
                                    },
                                    {
                                        "name": "Legalább 3 csillagos_e"
                                    }
                                ]
                            },
                            "data": [
                                {
                                    "SZALLAS_ID": "19",
                                    "SZALLAS_NEV": "Nyárfás Vendégház",
                                    "CSILLAGOK_SZAMA": "0",
                                    "Legalább 3 csillagos_e": "Nem"
                                },
                                {
                                    "SZALLAS_ID": "21",
                                    "SZALLAS_NEV": "Müller Vendégház",
                                    "CSILLAGOK_SZAMA": "0",
                                    "Legalább 3 csillagos_e": "Nem"
                                }
                            ]
                        },
                        "text/html": [
                            "<table>",
                            "<tr><th>SZALLAS_ID</th><th>SZALLAS_NEV</th><th>CSILLAGOK_SZAMA</th><th>Legalább 3 csillagos_e</th></tr>",
                            "<tr><td>19</td><td>Nyárfás Vendégház</td><td>0</td><td>Nem</td></tr>",
                            "<tr><td>21</td><td>Müller Vendégház</td><td>0</td><td>Nem</td></tr>",
                            "</table>"
                        ]
                    }
                }
            ],
            "execution_count": 6
        }
    ]
}